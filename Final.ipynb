{
 "cells": [
  {
   "cell_type": "code",
   "execution_count": 2,
   "id": "ffcff663",
   "metadata": {},
   "outputs": [],
   "source": [
    "from utils import *"
   ]
  },
  {
   "cell_type": "markdown",
   "id": "3f67d065",
   "metadata": {},
   "source": [
    "# PROCESAMIENTO DE \"baby2.mp4\" EN RGB"
   ]
  },
  {
   "cell_type": "code",
   "execution_count": 3,
   "id": "9f3253da",
   "metadata": {},
   "outputs": [],
   "source": [
    "baby2 = './data/baby2.mp4'\n",
    "\n",
    "#Separo el video en frames\n",
    "frames_baby2, nro_Frames_baby2, fps_baby2, filas_baby2, columnas_baby2 = video_to_frames(baby2)\n",
    "\n",
    "#Video gaussiano\n",
    "video_gaussiano_baby2 = gaussian_video(frames = frames_baby2, levels = 6)\n",
    "\n",
    "#Filtrado temporal\n",
    "amplified_frames_baby2 = ideal_filter(frames_baby2, video_gaussiano_baby2, chromAttenuation = 1, \n",
    "                                      fl = 140/40, fh = 160/40, frame_rate = fps_baby2, alpha = 150)\n",
    "\n",
    "frames_to_video(amplified_frames_baby2, 'Baby2_amplified_RGB', fps_baby2)"
   ]
  },
  {
   "cell_type": "markdown",
   "id": "a271ea35",
   "metadata": {},
   "source": [
    "# PROCESAMIENTO DE \"face.mp4\" EN RGB"
   ]
  },
  {
   "cell_type": "code",
   "execution_count": 4,
   "id": "248c046f",
   "metadata": {},
   "outputs": [],
   "source": [
    "face = './data/face.mp4'\n",
    "\n",
    "#Separo el video en frames\n",
    "frames_face, nro_Frames_face, fps_face, filas_face, columnas_face = video_to_frames(face)\n",
    "\n",
    "#Video gaussiano\n",
    "video_gaussiano_face = gaussian_video(frames = frames_face, levels = 4)\n",
    "\n",
    "#Filtrado temporal\n",
    "amplified_frames_face = ideal_filter(frames_face, video_gaussiano_face, chromAttenuation = 1, \n",
    "                                      fl = 50/60, fh = 60/60, frame_rate = fps_face, alpha = 50)\n",
    "\n",
    "frames_to_video(amplified_frames_face, 'face_amplified_RGB', fps_face)"
   ]
  },
  {
   "cell_type": "markdown",
   "id": "9d7ebb26",
   "metadata": {},
   "source": [
    "# PROCESAMIENTO DE \"face2.mp4\" EN RGB"
   ]
  },
  {
   "cell_type": "code",
   "execution_count": 5,
   "id": "006df5a6",
   "metadata": {},
   "outputs": [],
   "source": [
    "face2 = './data/face2.mp4'\n",
    "\n",
    "#Separo el video en frames\n",
    "frames_face2, nro_Frames_face2, fps_face2, filas_face2, columnas_face2 = video_to_frames(face2)\n",
    "\n",
    "#Video gaussiano\n",
    "video_gaussiano_face2 = gaussian_video(frames = frames_face2, levels = 6)\n",
    "\n",
    "#Filtrado temporal\n",
    "amplified_frames_face2 = ideal_filter(frames_face2, video_gaussiano_face2, chromAttenuation = 1, \n",
    "                                      fl = 50/60, fh = 60/60, frame_rate = fps_face2, alpha = 50)\n",
    "\n",
    "frames_to_video(amplified_frames_face2, 'face2_amplified_RGB', fps_face2)"
   ]
  },
  {
   "cell_type": "markdown",
   "id": "7678c2bc",
   "metadata": {},
   "source": [
    "# PROCESAMIENTO DE \"graci.mp4\" EN RGB"
   ]
  },
  {
   "cell_type": "code",
   "execution_count": 6,
   "id": "91bf8485",
   "metadata": {},
   "outputs": [],
   "source": [
    "graci = './data/graci.mp4'\n",
    "\n",
    "#Separo el video en frames\n",
    "frames_graci, nro_Frames_graci, fps_graci, filas_graci, columnas_graci = video_to_frames(graci)\n",
    "\n",
    "#Video gaussiano\n",
    "video_gaussiano_graci = gaussian_video(frames = frames_graci, levels = 6)\n",
    "\n",
    "#Filtrado temporal\n",
    "amplified_frames_graci = ideal_filter(frames_graci, video_gaussiano_graci, chromAttenuation = 1, \n",
    "                                      fl = 50/60, fh = 60/60, frame_rate = fps_graci, alpha = 50)\n",
    "\n",
    "frames_to_video(amplified_frames_graci, 'graci_amplified_RGB', fps_graci)"
   ]
  },
  {
   "cell_type": "markdown",
   "id": "9f06180c",
   "metadata": {},
   "source": [
    "# PROCESAMIENTO DE \"andres.mp4\" EN RGB"
   ]
  },
  {
   "cell_type": "code",
   "execution_count": 7,
   "id": "c814185d",
   "metadata": {},
   "outputs": [],
   "source": [
    "andres = './data/andres.mp4'\n",
    "\n",
    "#Separo el video en frames\n",
    "frames_andres, nro_Frames_andres, fps_andres, filas_andres, columnas_andres = video_to_frames(andres)\n",
    "\n",
    "#Video gaussiano\n",
    "video_gaussiano_andres = gaussian_video(frames = frames_andres, levels = 4)\n",
    "\n",
    "#Filtrado temporal\n",
    "amplified_frames_andres = ideal_filter(frames_andres, video_gaussiano_andres, chromAttenuation = 1, \n",
    "                                      fl = 50/60, fh = 60/60, frame_rate = fps_andres, alpha = 50)\n",
    "\n",
    "frames_to_video(amplified_frames_andres, 'andres_amplified_RGB', fps_andres)"
   ]
  },
  {
   "cell_type": "markdown",
   "id": "4761bfd4",
   "metadata": {},
   "source": [
    "# PROCESAMIENTO DE \"baby2.mp4\" EN YIQ"
   ]
  },
  {
   "cell_type": "code",
   "execution_count": 8,
   "id": "e971ce20",
   "metadata": {},
   "outputs": [],
   "source": [
    "baby2 = './data/baby2.mp4'\n",
    "\n",
    "frames_baby2, nro_Frames, fps, filas, columnas = video_to_frames(baby2)\n",
    "\n",
    "frames_baby2_yiq = []\n",
    "for i in range(nro_Frames):\n",
    "    frames_baby2_yiq.append(rgb2yiq(frames_baby2[i]))\n",
    "    \n",
    "video_gaussiano_baby2_yiq = gaussian_video(frames = frames_baby2_yiq, levels = 6)\n",
    "\n",
    "amplified_frames_baby2_yiq = ideal_filter(frames_baby2_yiq, video_gaussiano_baby2_yiq, chromAttenuation = 1, \n",
    "                                      fl = 140/40, fh = 160/40, frame_rate = fps, alpha = 150)\n",
    "\n",
    "amplified_frames_baby2_rgb = []\n",
    "for i in range(nro_Frames):\n",
    "    amplified_frames_baby2_rgb.append(yiq2rgb(amplified_frames_baby2_yiq[i]))\n",
    "    \n",
    "frames_to_video(amplified_frames_baby2_rgb, 'Baby2_amplified_YIQ', fps)"
   ]
  }
 ],
 "metadata": {
  "kernelspec": {
   "display_name": "Python 3",
   "language": "python",
   "name": "python3"
  },
  "language_info": {
   "codemirror_mode": {
    "name": "ipython",
    "version": 3
   },
   "file_extension": ".py",
   "mimetype": "text/x-python",
   "name": "python",
   "nbconvert_exporter": "python",
   "pygments_lexer": "ipython3",
   "version": "3.8.8"
  }
 },
 "nbformat": 4,
 "nbformat_minor": 5
}
